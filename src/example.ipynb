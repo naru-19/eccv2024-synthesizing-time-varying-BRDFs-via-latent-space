{
 "cells": [
  {
   "cell_type": "code",
   "execution_count": 7,
   "metadata": {},
   "outputs": [
    {
     "name": "stdout",
     "output_type": "stream",
     "text": [
      "Obtaining file:///app/libraries/slib (from -r requirements.txt (line 1))\n",
      "  Installing build dependencies ... \u001b[?25ldone\n",
      "\u001b[?25h  Checking if build backend supports build_editable ... \u001b[?25ldone\n",
      "\u001b[?25h  Getting requirements to build editable ... \u001b[?25ldone\n",
      "\u001b[?25h  Preparing editable metadata (pyproject.toml) ... \u001b[?25ldone\n",
      "\u001b[?25hObtaining file:///app/libraries/brdf_enc_dec (from -r requirements.txt (line 2))\n",
      "  Installing build dependencies ... \u001b[?25ldone\n",
      "\u001b[?25h  Checking if build backend supports build_editable ... \u001b[?25ldone\n",
      "\u001b[?25h  Getting requirements to build editable ... \u001b[?25ldone\n",
      "\u001b[?25h  Preparing editable metadata (pyproject.toml) ... \u001b[?25ldone\n",
      "\u001b[?25hObtaining file:///app/libraries/staf (from -r requirements.txt (line 3))\n",
      "  Installing build dependencies ... \u001b[?25ldone\n",
      "\u001b[?25h  Checking if build backend supports build_editable ... \u001b[?25ldone\n",
      "\u001b[?25h  Getting requirements to build editable ... \u001b[?25ldone\n",
      "\u001b[?25h  Preparing editable metadata (pyproject.toml) ... \u001b[?25ldone\n",
      "\u001b[?25hBuilding wheels for collected packages: slib, brdf_enc_dec, staf\n",
      "  Building editable for slib (pyproject.toml) ... \u001b[?25ldone\n",
      "\u001b[?25h  Created wheel for slib: filename=slib-2023.4.18-0.editable-py3-none-any.whl size=2620 sha256=7406315969c40a84371a4d1a7ac604565a2f29ae9eadb7f9f13679c29bd63e79\n",
      "  Stored in directory: /tmp/pip-ephem-wheel-cache-9trnsp9b/wheels/42/bb/d5/444774daf14493ad35048f74236b0e5f5744a74ff2164cfb10\n",
      "  Building editable for brdf_enc_dec (pyproject.toml) ... \u001b[?25ldone\n",
      "\u001b[?25h  Created wheel for brdf_enc_dec: filename=brdf_enc_dec-2023.5.26-0.editable-py3-none-any.whl size=2756 sha256=4becac9d8f45dc2d5921d5c1b0714d0ae28fceafb5f9511b18f571d0f9a6421b\n",
      "  Stored in directory: /tmp/pip-ephem-wheel-cache-9trnsp9b/wheels/4c/4f/92/f07242755b5c585f2152a7edb2b5ae3981545b5cc587f82cc2\n",
      "  Building editable for staf (pyproject.toml) ... \u001b[?25ldone\n",
      "\u001b[?25h  Created wheel for staf: filename=staf-2022.9.22-0.editable-py3-none-any.whl size=2614 sha256=8e86f58d4f1d8e3210f64847d6011d7723d8c6cbd206ab0a75dfdaccb48f642a\n",
      "  Stored in directory: /tmp/pip-ephem-wheel-cache-9trnsp9b/wheels/54/c9/ea/da4d37b9e32101cf7dde47e7fcc5747d74198bdbded3f9ad62\n",
      "Successfully built slib brdf_enc_dec staf\n",
      "Installing collected packages: staf, slib, brdf_enc_dec\n",
      "  Attempting uninstall: staf\n",
      "    Found existing installation: staf 2022.9.22\n",
      "    Uninstalling staf-2022.9.22:\n",
      "      Successfully uninstalled staf-2022.9.22\n",
      "  Attempting uninstall: slib\n",
      "    Found existing installation: slib 2023.4.18\n",
      "    Uninstalling slib-2023.4.18:\n",
      "      Successfully uninstalled slib-2023.4.18\n",
      "  Attempting uninstall: brdf_enc_dec\n",
      "    Found existing installation: brdf_enc_dec 2023.5.26\n",
      "    Uninstalling brdf_enc_dec-2023.5.26:\n",
      "      Successfully uninstalled brdf_enc_dec-2023.5.26\n",
      "Successfully installed brdf_enc_dec-2023.5.26 slib-2023.4.18 staf-2022.9.22\n",
      "\u001b[33mWARNING: Running pip as the 'root' user can result in broken permissions and conflicting behaviour with the system package manager, possibly rendering your system unusable.It is recommended to use a virtual environment instead: https://pip.pypa.io/warnings/venv. Use the --root-user-action option if you know what you are doing and want to suppress this warning.\u001b[0m\u001b[33m\n",
      "\u001b[0m"
     ]
    }
   ],
   "source": [
    "!cd /app/libraries && python3 -m pip install -r requirements.txt"
   ]
  },
  {
   "cell_type": "code",
   "execution_count": 1,
   "metadata": {},
   "outputs": [],
   "source": [
    "from pathlib import Path\n",
    "class Settings:\n",
    "    dataset_dir = Path(\"/app/resources/\")\n",
    "settings = Settings()    "
   ]
  },
  {
   "cell_type": "code",
   "execution_count": 4,
   "metadata": {},
   "outputs": [
    {
     "name": "stdout",
     "output_type": "stream",
     "text": [
      "model path: /app/resources/model_weights/encdec/600k.pth\n",
      "Set up models...\n",
      "device: cpu\n",
      "loaded\n"
     ]
    },
    {
     "name": "stderr",
     "output_type": "stream",
     "text": [
      "/app/libraries/brdf_enc_dec/brdf_enc_dec/torrance_sparrow_dataset.py:11: UserWarning: To copy construct from a tensor, it is recommended to use sourceTensor.clone().detach() or sourceTensor.clone().detach().requires_grad_(True), rather than torch.tensor(sourceTensor).\n",
      "  self.params.kd = torch.tensor(self.params.kd, dtype=torch.float32).to(\n",
      "/app/libraries/brdf_enc_dec/brdf_enc_dec/torrance_sparrow_dataset.py:14: UserWarning: To copy construct from a tensor, it is recommended to use sourceTensor.clone().detach() or sourceTensor.clone().detach().requires_grad_(True), rather than torch.tensor(sourceTensor).\n",
      "  self.params.ks = torch.tensor(self.params.ks, dtype=torch.float32).to(\n",
      "/app/libraries/brdf_enc_dec/brdf_enc_dec/torrance_sparrow_dataset.py:17: UserWarning: To copy construct from a tensor, it is recommended to use sourceTensor.clone().detach() or sourceTensor.clone().detach().requires_grad_(True), rather than torch.tensor(sourceTensor).\n",
      "  self.params.sigma = torch.tensor(\n"
     ]
    },
    {
     "name": "stdout",
     "output_type": "stream",
     "text": [
      "device cpu\n"
     ]
    },
    {
     "name": "stderr",
     "output_type": "stream",
     "text": [
      "  0%|          | 0/1654 [00:00<?, ?it/s]\n"
     ]
    },
    {
     "ename": "KeyboardInterrupt",
     "evalue": "",
     "output_type": "error",
     "traceback": [
      "\u001b[0;31m---------------------------------------------------------------------------\u001b[0m",
      "\u001b[0;31mKeyboardInterrupt\u001b[0m                         Traceback (most recent call last)",
      "Cell \u001b[0;32mIn[4], line 58\u001b[0m\n\u001b[1;32m     56\u001b[0m \u001b[38;5;28;01mwith\u001b[39;00m torch\u001b[38;5;241m.\u001b[39mno_grad():\n\u001b[1;32m     57\u001b[0m     \u001b[38;5;28;01mfor\u001b[39;00m i \u001b[38;5;129;01min\u001b[39;00m tqdm(\u001b[38;5;28mrange\u001b[39m(dataset\u001b[38;5;241m.\u001b[39mnum_baches)):\n\u001b[0;32m---> 58\u001b[0m         batch_input \u001b[38;5;241m=\u001b[39m \u001b[43mdataset\u001b[49m\u001b[38;5;241;43m.\u001b[39;49m\u001b[43mget_batch\u001b[49m\u001b[43m(\u001b[49m\u001b[43mi\u001b[49m\u001b[43m)\u001b[49m\u001b[38;5;241m.\u001b[39mreshape(\u001b[38;5;241m-\u001b[39m\u001b[38;5;241m1\u001b[39m, \u001b[38;5;241m16200\u001b[39m, \u001b[38;5;241m7\u001b[39m)\n\u001b[1;32m     59\u001b[0m         latent \u001b[38;5;241m=\u001b[39m brdfnps\u001b[38;5;241m.\u001b[39mencode(batch_input)\n\u001b[1;32m     60\u001b[0m         results\u001b[38;5;241m.\u001b[39mappend(latent\u001b[38;5;241m.\u001b[39mcpu()\u001b[38;5;241m.\u001b[39mnumpy())\n",
      "File \u001b[0;32m/app/libraries/brdf_enc_dec/brdf_enc_dec/torrance_sparrow_dataset.py:35\u001b[0m, in \u001b[0;36mTorspaBRDFNPsDataset.get_batch\u001b[0;34m(self, batch_idx)\u001b[0m\n\u001b[1;32m     32\u001b[0m bs \u001b[38;5;241m=\u001b[39m batch_params\u001b[38;5;241m.\u001b[39mkd\u001b[38;5;241m.\u001b[39mshape[\u001b[38;5;241m0\u001b[39m]\n\u001b[1;32m     33\u001b[0m params_cat \u001b[38;5;241m=\u001b[39m \u001b[38;5;28mself\u001b[39m\u001b[38;5;241m.\u001b[39mtile_params(batch_params)\n\u001b[0;32m---> 35\u001b[0m Y \u001b[38;5;241m=\u001b[39m \u001b[43mtorspa\u001b[49m\u001b[43m(\u001b[49m\n\u001b[1;32m     36\u001b[0m \u001b[43m    \u001b[49m\u001b[43mkd\u001b[49m\u001b[38;5;241;43m=\u001b[39;49m\u001b[43mparams_cat\u001b[49m\u001b[38;5;241;43m.\u001b[39;49m\u001b[43mkd\u001b[49m\u001b[43m,\u001b[49m\n\u001b[1;32m     37\u001b[0m \u001b[43m    \u001b[49m\u001b[43mks\u001b[49m\u001b[38;5;241;43m=\u001b[39;49m\u001b[43mparams_cat\u001b[49m\u001b[38;5;241;43m.\u001b[39;49m\u001b[43mks\u001b[49m\u001b[43m,\u001b[49m\n\u001b[1;32m     38\u001b[0m \u001b[43m    \u001b[49m\u001b[43msigma\u001b[49m\u001b[38;5;241;43m=\u001b[39;49m\u001b[43mparams_cat\u001b[49m\u001b[38;5;241;43m.\u001b[39;49m\u001b[43msigma\u001b[49m\u001b[43m,\u001b[49m\n\u001b[1;32m     39\u001b[0m \u001b[43m    \u001b[49m\u001b[43mwi\u001b[49m\u001b[38;5;241;43m=\u001b[39;49m\u001b[43mtorch\u001b[49m\u001b[38;5;241;43m.\u001b[39;49m\u001b[43mtile\u001b[49m\u001b[43m(\u001b[49m\u001b[38;5;28;43mself\u001b[39;49m\u001b[38;5;241;43m.\u001b[39;49m\u001b[43mwi\u001b[49m\u001b[43m,\u001b[49m\u001b[43m \u001b[49m\u001b[43m(\u001b[49m\u001b[43mbs\u001b[49m\u001b[43m,\u001b[49m\u001b[43m \u001b[49m\u001b[38;5;241;43m1\u001b[39;49m\u001b[43m)\u001b[49m\u001b[43m)\u001b[49m\u001b[38;5;241;43m.\u001b[39;49m\u001b[43mto\u001b[49m\u001b[43m(\u001b[49m\u001b[38;5;28;43mself\u001b[39;49m\u001b[38;5;241;43m.\u001b[39;49m\u001b[43mdevice\u001b[49m\u001b[43m)\u001b[49m\u001b[43m,\u001b[49m\n\u001b[1;32m     40\u001b[0m \u001b[43m    \u001b[49m\u001b[43mwo\u001b[49m\u001b[38;5;241;43m=\u001b[39;49m\u001b[43mtorch\u001b[49m\u001b[38;5;241;43m.\u001b[39;49m\u001b[43mtile\u001b[49m\u001b[43m(\u001b[49m\u001b[38;5;28;43mself\u001b[39;49m\u001b[38;5;241;43m.\u001b[39;49m\u001b[43mwo\u001b[49m\u001b[43m,\u001b[49m\u001b[43m \u001b[49m\u001b[43m(\u001b[49m\u001b[43mbs\u001b[49m\u001b[43m,\u001b[49m\u001b[43m \u001b[49m\u001b[38;5;241;43m1\u001b[39;49m\u001b[43m)\u001b[49m\u001b[43m)\u001b[49m\u001b[38;5;241;43m.\u001b[39;49m\u001b[43mto\u001b[49m\u001b[43m(\u001b[49m\u001b[38;5;28;43mself\u001b[39;49m\u001b[38;5;241;43m.\u001b[39;49m\u001b[43mdevice\u001b[49m\u001b[43m)\u001b[49m\u001b[43m,\u001b[49m\n\u001b[1;32m     41\u001b[0m \u001b[43m\u001b[49m\u001b[43m)\u001b[49m\u001b[38;5;241m.\u001b[39mto(torch\u001b[38;5;241m.\u001b[39mfloat32)\n\u001b[1;32m     43\u001b[0m Y \u001b[38;5;241m=\u001b[39m \u001b[38;5;28mself\u001b[39m\u001b[38;5;241m.\u001b[39mpreprocess_Y(Y)\n\u001b[1;32m     44\u001b[0m \u001b[38;5;28;01mreturn\u001b[39;00m torch\u001b[38;5;241m.\u001b[39mcat([torch\u001b[38;5;241m.\u001b[39mtile(\u001b[38;5;28mself\u001b[39m\u001b[38;5;241m.\u001b[39mX, (bs, \u001b[38;5;241m1\u001b[39m)), Y], dim\u001b[38;5;241m=\u001b[39m\u001b[38;5;241m-\u001b[39m\u001b[38;5;241m1\u001b[39m)\n",
      "File \u001b[0;32m/app/libraries/TorranceSparrow/TorranceSparrow/torrance_sparrow_model.py:116\u001b[0m, in \u001b[0;36mtorspa\u001b[0;34m(kd, ks, sigma, wi, wo)\u001b[0m\n\u001b[1;32m    114\u001b[0m batch_num \u001b[38;5;241m=\u001b[39m wi\u001b[38;5;241m.\u001b[39mshape[\u001b[38;5;241m0\u001b[39m]\n\u001b[1;32m    115\u001b[0m \u001b[38;5;28;01mif\u001b[39;00m ks\u001b[38;5;241m.\u001b[39mshape[\u001b[38;5;241m-\u001b[39m\u001b[38;5;241m1\u001b[39m] \u001b[38;5;241m==\u001b[39m \u001b[38;5;241m3\u001b[39m:\n\u001b[0;32m--> 116\u001b[0m     \u001b[38;5;28;01mreturn\u001b[39;00m \u001b[43mtorspa3d\u001b[49m\u001b[43m(\u001b[49m\u001b[43mkd\u001b[49m\u001b[43m,\u001b[49m\u001b[43m \u001b[49m\u001b[43mks\u001b[49m\u001b[43m,\u001b[49m\u001b[43m \u001b[49m\u001b[43msigma\u001b[49m\u001b[43m,\u001b[49m\u001b[43m \u001b[49m\u001b[43mwi\u001b[49m\u001b[43m,\u001b[49m\u001b[43m \u001b[49m\u001b[43mwo\u001b[49m\u001b[43m)\u001b[49m\n\u001b[1;32m    117\u001b[0m \u001b[38;5;28;01massert\u001b[39;00m kd\u001b[38;5;241m.\u001b[39mshape \u001b[38;5;241m==\u001b[39m (batch_num, \u001b[38;5;241m3\u001b[39m), \u001b[38;5;124mf\u001b[39m\u001b[38;5;124m\"\u001b[39m\u001b[38;5;132;01m{\u001b[39;00mkd\u001b[38;5;241m.\u001b[39mshape\u001b[38;5;132;01m}\u001b[39;00m\u001b[38;5;124m!=\u001b[39m\u001b[38;5;132;01m{\u001b[39;00m(batch_num,\u001b[38;5;241m3\u001b[39m)\u001b[38;5;132;01m}\u001b[39;00m\u001b[38;5;124m\"\u001b[39m\n\u001b[1;32m    118\u001b[0m \u001b[38;5;28;01massert\u001b[39;00m ks\u001b[38;5;241m.\u001b[39mshape \u001b[38;5;241m==\u001b[39m (batch_num, \u001b[38;5;241m1\u001b[39m), \u001b[38;5;124mf\u001b[39m\u001b[38;5;124m\"\u001b[39m\u001b[38;5;132;01m{\u001b[39;00mks\u001b[38;5;241m.\u001b[39mshape\u001b[38;5;132;01m}\u001b[39;00m\u001b[38;5;124m!=\u001b[39m\u001b[38;5;132;01m{\u001b[39;00m(batch_num,\u001b[38;5;241m1\u001b[39m)\u001b[38;5;132;01m}\u001b[39;00m\u001b[38;5;124m\"\u001b[39m\n",
      "File \u001b[0;32m/app/libraries/TorranceSparrow/TorranceSparrow/torrance_sparrow_model.py:147\u001b[0m, in \u001b[0;36mtorspa3d\u001b[0;34m(kd, ks, sigma, wi, wo)\u001b[0m\n\u001b[1;32m    144\u001b[0m wh \u001b[38;5;241m=\u001b[39m (wi \u001b[38;5;241m+\u001b[39m wo) \u001b[38;5;241m/\u001b[39m torch\u001b[38;5;241m.\u001b[39mnorm(wi \u001b[38;5;241m+\u001b[39m wo, dim\u001b[38;5;241m=\u001b[39m\u001b[38;5;241m1\u001b[39m, keepdim\u001b[38;5;241m=\u001b[39m\u001b[38;5;28;01mTrue\u001b[39;00m)\n\u001b[1;32m    145\u001b[0m distr \u001b[38;5;241m=\u001b[39m MicrofacetDistribution(sigma)\n\u001b[0;32m--> 147\u001b[0m G \u001b[38;5;241m=\u001b[39m \u001b[43mdistr\u001b[49m\u001b[38;5;241;43m.\u001b[39;49m\u001b[43mG\u001b[49m\u001b[43m(\u001b[49m\u001b[43mwi\u001b[49m\u001b[43m,\u001b[49m\u001b[43m \u001b[49m\u001b[43mwo\u001b[49m\u001b[43m,\u001b[49m\u001b[43m \u001b[49m\u001b[43mwh\u001b[49m\u001b[43m)\u001b[49m\n\u001b[1;32m    148\u001b[0m D \u001b[38;5;241m=\u001b[39m distr\u001b[38;5;241m.\u001b[39meval(wh)\n\u001b[1;32m    149\u001b[0m F \u001b[38;5;241m=\u001b[39m FresnelConductorExact(torch\u001b[38;5;241m.\u001b[39msum(wo \u001b[38;5;241m*\u001b[39m wh, dim\u001b[38;5;241m=\u001b[39m\u001b[38;5;241m-\u001b[39m\u001b[38;5;241m1\u001b[39m), \u001b[38;5;241m0.0\u001b[39m, \u001b[38;5;241m1.0\u001b[39m)\n",
      "File \u001b[0;32m/app/libraries/TorranceSparrow/TorranceSparrow/torrance_sparrow_model.py:85\u001b[0m, in \u001b[0;36mMicrofacetDistribution.G\u001b[0;34m(self, wi, wo, m)\u001b[0m\n\u001b[1;32m     84\u001b[0m \u001b[38;5;28;01mdef\u001b[39;00m \u001b[38;5;21mG\u001b[39m(\u001b[38;5;28mself\u001b[39m, wi, wo, m):\n\u001b[0;32m---> 85\u001b[0m     \u001b[38;5;28;01mreturn\u001b[39;00m \u001b[38;5;28mself\u001b[39m\u001b[38;5;241m.\u001b[39msmithG1(wi, m) \u001b[38;5;241m*\u001b[39m \u001b[38;5;28;43mself\u001b[39;49m\u001b[38;5;241;43m.\u001b[39;49m\u001b[43msmithG1\u001b[49m\u001b[43m(\u001b[49m\u001b[43mwo\u001b[49m\u001b[43m,\u001b[49m\u001b[43m \u001b[49m\u001b[43mm\u001b[49m\u001b[43m)\u001b[49m\n",
      "File \u001b[0;32m/app/libraries/TorranceSparrow/TorranceSparrow/torrance_sparrow_model.py:88\u001b[0m, in \u001b[0;36mMicrofacetDistribution.smithG1\u001b[0;34m(self, v, m)\u001b[0m\n\u001b[1;32m     87\u001b[0m \u001b[38;5;28;01mdef\u001b[39;00m \u001b[38;5;21msmithG1\u001b[39m(\u001b[38;5;28mself\u001b[39m, v, m):\n\u001b[0;32m---> 88\u001b[0m     zero_indices \u001b[38;5;241m=\u001b[39m \u001b[43mtorch\u001b[49m\u001b[38;5;241;43m.\u001b[39;49m\u001b[43msum\u001b[49m\u001b[43m(\u001b[49m\u001b[43mv\u001b[49m\u001b[43m \u001b[49m\u001b[38;5;241;43m*\u001b[39;49m\u001b[43m \u001b[49m\u001b[43mm\u001b[49m\u001b[43m,\u001b[49m\u001b[43m \u001b[49m\u001b[43mdim\u001b[49m\u001b[38;5;241;43m=\u001b[39;49m\u001b[38;5;241;43m-\u001b[39;49m\u001b[38;5;241;43m1\u001b[39;49m\u001b[43m)\u001b[49m\u001b[43m \u001b[49m\u001b[38;5;241;43m*\u001b[39;49m\u001b[43m \u001b[49m\u001b[43mv\u001b[49m\u001b[43m[\u001b[49m\u001b[38;5;241;43m.\u001b[39;49m\u001b[38;5;241;43m.\u001b[39;49m\u001b[38;5;241;43m.\u001b[39;49m\u001b[43m,\u001b[49m\u001b[43m \u001b[49m\u001b[38;5;241;43m2\u001b[39;49m\u001b[43m]\u001b[49m\u001b[43m \u001b[49m\u001b[38;5;241;43m<\u001b[39;49m\u001b[38;5;241;43m=\u001b[39;49m\u001b[43m \u001b[49m\u001b[38;5;241;43m0\u001b[39;49m\n\u001b[1;32m     89\u001b[0m     tan \u001b[38;5;241m=\u001b[39m torch\u001b[38;5;241m.\u001b[39mabs(tanTheta(v))\n\u001b[1;32m     90\u001b[0m     alpha \u001b[38;5;241m=\u001b[39m \u001b[38;5;28mself\u001b[39m\u001b[38;5;241m.\u001b[39mprojectRoughness(v)\n",
      "\u001b[0;31mKeyboardInterrupt\u001b[0m: "
     ]
    }
   ],
   "source": [
    "# import sys\n",
    "# sys.path.append(\"/app/libraries\")\n",
    "\n",
    "import argparse\n",
    "\n",
    "import numpy as np\n",
    "import torch\n",
    "from tqdm import tqdm\n",
    "from brdf_enc_dec.torrance_sparrow_dataset import TorspaBRDFNPsDataset\n",
    "from brdf_enc_dec.model import BRDFNPs,ModelConfig\n",
    "from staf import STAF\n",
    "from TorranceSparrow import TorranceSparrowParams,torspa\n",
    "from pathlib import Path\n",
    "\n",
    "class Settings:\n",
    "    dataset_dir = Path(\"/app/resources/\")\n",
    "    enc_dec_checkpoint = dataset_dir /\"model_weights/encdec/600k.pth\"\n",
    "settings = Settings()    \n",
    "# parser = argparse.ArgumentParser()\n",
    "# parser.add_argument(\"--tvBTF\",type=int,default=45)\n",
    "# parser.add_argument(\"--poly\",type=int,default=3)\n",
    "# args = parser.parse_args()\n",
    "class args:\n",
    "    tvBTF = 45\n",
    "    poly = 3\n",
    "    batch_size = 128\n",
    "    n_frames = 36 # number of frames to use        \n",
    "    device=\"-1\"\n",
    "    out_dir = Path(\"./output\")\n",
    "\n",
    "device = \"cuda\" if args.device != \"-1\" else \"cpu\"    \n",
    "\n",
    "\n",
    "# load brdf encoder/decoder\n",
    "brdfnps=BRDFNPs(device=device,checkpoint=settings.enc_dec_checkpoint,onlyEncoder=True,cfg=ModelConfig())\n",
    "brdfnps.to_eval()\n",
    "\n",
    "\n",
    "# load tvBRDF data\n",
    "staf = STAF.parse_files(\n",
    "    settings.dataset_dir/f\"tvBTF{args.tvBTF}/poly-{args.poly}\"\n",
    ")\n",
    "latents_all=[]\n",
    "t=0\n",
    "frame=0\n",
    "# output directory\n",
    "out_dir = args.out_dir/ f\"t-{t:.2f}\" \n",
    "workspace_dir = out_dir / \"batch_output\"\n",
    "workspace_dir.mkdir(exist_ok=True,parents=True)\n",
    "\n",
    "\n",
    "tsp = staf.get_tsp(t=t,device=device)\n",
    "dataset = TorspaBRDFNPsDataset(params = tsp, batch_size=args.batch_size, device=device)\n",
    "results=[]\n",
    "\n",
    "\n",
    "with torch.no_grad():\n",
    "    for i in tqdm(range(dataset.num_baches)):\n",
    "        batch_input = dataset.get_batch(i).reshape(-1, 16200, 7)\n",
    "        latent = brdfnps.encode(batch_input)\n",
    "        results.append(latent.cpu().numpy())\n",
    "        np.save(\n",
    "            workspace_dir / f\"batch_{i}.npy\",\n",
    "            latent.cpu().numpy()\n",
    "        )\n",
    "    results = np.concatenate(results, axis=0)\n",
    "    np.save(\n",
    "        out_dir / f\"f{frame}_latents_all.npy\",\n",
    "        results\n",
    "    )\n",
    "    latents_all.append(results[..., :ModelConfig().latent_dim].reshape(-1, 1, 10))"
   ]
  },
  {
   "cell_type": "code",
   "execution_count": 5,
   "metadata": {},
   "outputs": [
    {
     "data": {
      "text/plain": [
       "10"
      ]
     },
     "execution_count": 5,
     "metadata": {},
     "output_type": "execute_result"
    }
   ],
   "source": [
    "np.save(args.out_dir / f\"latents_all.npy\", np.concatenate(latents_all, axis=1))"
   ]
  }
 ],
 "metadata": {
  "kernelspec": {
   "display_name": "Python 3",
   "language": "python",
   "name": "python3"
  },
  "language_info": {
   "codemirror_mode": {
    "name": "ipython",
    "version": 3
   },
   "file_extension": ".py",
   "mimetype": "text/x-python",
   "name": "python",
   "nbconvert_exporter": "python",
   "pygments_lexer": "ipython3",
   "version": "3.8.16"
  }
 },
 "nbformat": 4,
 "nbformat_minor": 2
}
